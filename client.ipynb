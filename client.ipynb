{
 "cells": [
  {
   "cell_type": "code",
   "execution_count": 2,
   "id": "fec403c3-3e68-4d08-80c1-d866d27b12b9",
   "metadata": {},
   "outputs": [],
   "source": [
    "import os\n",
    "import pathlib\n",
    "import os\n",
    "os.environ[\"TOKENIZERS_PARALLELISM\"] = \"false\"\n",
    "import numpy as np\n",
    "import tritonclient.http as httpclient\n",
    "from tritonclient.utils import np_to_triton_dtype"
   ]
  },
  {
   "cell_type": "code",
   "execution_count": 3,
   "id": "1dd5bdac-b6ab-4418-991e-57b370181b90",
   "metadata": {},
   "outputs": [
    {
     "name": "stderr",
     "output_type": "stream",
     "text": [
      "/usr/local/lib/python3.10/dist-packages/tqdm/auto.py:21: TqdmWarning: IProgress not found. Please update jupyter and ipywidgets. See https://ipywidgets.readthedocs.io/en/stable/user_install.html\n",
      "  from .autonotebook import tqdm as notebook_tqdm\n"
     ]
    }
   ],
   "source": [
    "from transformers import AutoTokenizer"
   ]
  },
  {
   "cell_type": "code",
   "execution_count": 4,
   "id": "5b09deae-66a1-4cee-9242-6462d0fd6570",
   "metadata": {},
   "outputs": [],
   "source": [
    "def prepare_tensor(name, input):\n",
    "    client_util = httpclient\n",
    "    t = client_util.InferInput(name, input.shape,\n",
    "                               np_to_triton_dtype(input.dtype))\n",
    "    t.set_data_from_numpy(input)\n",
    "    return t"
   ]
  },
  {
   "cell_type": "code",
   "execution_count": 5,
   "id": "0dac3ce3-89b9-46a2-9d74-e23555ad8ca0",
   "metadata": {},
   "outputs": [],
   "source": [
    "triton_url = \"localhost:8000\"\n",
    "triton_model_name = \"ensemble\"\n",
    "triton_client = httpclient.InferenceServerClient(url=triton_url)"
   ]
  },
  {
   "cell_type": "code",
   "execution_count": 24,
   "id": "1f759d89-32f6-4d4c-a37f-01c90d4ce648",
   "metadata": {},
   "outputs": [
    {
     "name": "stdout",
     "output_type": "stream",
     "text": [
      "['Das ist gut.', 'Ich bin heute glücklich, nach so vielen Tagen']\n"
     ]
    }
   ],
   "source": [
    "input0 = [[\"translate English to German: This is good\"], [\"translate English to German: I feel happy today after so many days\"]]\n",
    "input0_data = np.array(input0).astype(object)\n",
    "max_new_tokens = 50\n",
    "input1_data = np.ones_like(input0).astype(np.int32) * max_new_tokens\n",
    "inputs = [\n",
    "    prepare_tensor(\"text_input\", input0_data),\n",
    "    prepare_tensor(\"max_new_tokens\", input1_data)\n",
    "]\n",
    "\n",
    "outputs = []\n",
    "outputs.append(httpclient.InferRequestedOutput(\"text_output\"))\n",
    "results = triton_client.infer(model_name=triton_model_name,\n",
    "                              inputs=inputs,\n",
    "                              outputs=outputs)\n",
    "\n",
    "outputs = results.as_numpy('text_output')\n",
    "outputs = [o.decode() for o in outputs]\n",
    "print(outputs)"
   ]
  },
  {
   "cell_type": "code",
   "execution_count": null,
   "id": "01e157a5-26d4-4457-a4d0-9c3e389fd059",
   "metadata": {},
   "outputs": [],
   "source": []
  }
 ],
 "metadata": {
  "kernelspec": {
   "display_name": "Python 3 (ipykernel)",
   "language": "python",
   "name": "python3"
  },
  "language_info": {
   "codemirror_mode": {
    "name": "ipython",
    "version": 3
   },
   "file_extension": ".py",
   "mimetype": "text/x-python",
   "name": "python",
   "nbconvert_exporter": "python",
   "pygments_lexer": "ipython3",
   "version": "3.10.12"
  }
 },
 "nbformat": 4,
 "nbformat_minor": 5
}
